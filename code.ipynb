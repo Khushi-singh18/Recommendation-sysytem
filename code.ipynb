# Install required package (only needed if not already installed)
!pip install scikit-surprise

# Import libraries
from surprise import SVD, Dataset, Reader
from surprise.model_selection import train_test_split, cross_validate
from surprise.accuracy import rmse
from collections import defaultdict

# Load the built-in MovieLens 100k dataset
data = Dataset.load_builtin('ml-100k')

# Split data into training and test sets
trainset, testset = train_test_split(data, test_size=0.2)

# Initialize and train the SVD model
model = SVD()
model.fit(trainset)

# Predict ratings for the testset
predictions = model.test(testset)

# Evaluate performance
print("Root Mean Squared Error (RMSE):")
rmse(predictions)

# Perform cross-validation
print("\nCross-validation results:")
cross_validate(model, data, measures=['RMSE', 'MAE'], cv=5, verbose=True)

# Function to get top-N movie recommendations per user
def get_top_n(predictions, n=5):
    top_n = defaultdict(list)
    for uid, iid, true_r, est, _ in predictions:
        top_n[uid].append((iid, est))
    for uid, user_ratings in top_n.items():
        user_ratings.sort(key=lambda x: x[1], reverse=True)
        top_n[uid] = user_ratings[:n]
    return top_n

# Generate top 5 movie recommendations for each user
top_n = get_top_n(predictions, n=5)

# Example: Display top 5 movie recommendations for user '196'
print("\nTop 5 movie recommendations for user 196:")
for iid, rating in top_n['196']:
    print(f"Movie ID: {iid}, Predicted Rating: {rating:.2f}")
